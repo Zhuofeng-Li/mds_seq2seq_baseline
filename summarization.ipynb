{
  "cells": [
    {
      "cell_type": "code",
      "execution_count": 21,
      "metadata": {},
      "outputs": [],
      "source": [
        "import pandas as pd\n",
        "\n",
        "# 加载CSV文件\n",
        "train_df = pd.read_csv('dataset/train_qfid.csv')\n",
        "val_df = pd.read_csv('dataset/val_qfid.csv')\n",
        "test_df = pd.read_csv('dataset/test_qfid.csv')\n"
      ]
    },
    {
      "cell_type": "code",
      "execution_count": null,
      "metadata": {},
      "outputs": [],
      "source": []
    },
    {
      "cell_type": "code",
      "execution_count": 30,
      "metadata": {},
      "outputs": [],
      "source": [
        "# 创建一个字典，其中键是变量名，值是对应的 DataFrame\n",
        "dfs = {'train': train_df, 'val': val_df, 'test': test_df}\n",
        "\n",
        "# 对每个 DataFrame 执行相同的操作\n",
        "for name, df in dfs.items():\n",
        "    # 获取前 3000 条数据\n",
        "    if name == 'train':\n",
        "        df_3000 = df.head(10000)\n",
        "        df_3000.to_csv(f'first_10000_{name}_qfid.csv', index=False)\n",
        "    else:\n",
        "        df_3000 = df.head(1000)\n",
        "        df_3000.to_csv(f'first_1000_{name}_qfid.csv', index=False)"
      ]
    },
    {
      "cell_type": "code",
      "execution_count": 24,
      "metadata": {},
      "outputs": [
        {
          "data": {
            "text/plain": [
              "(88269, 4624, 4632)"
            ]
          },
          "execution_count": 24,
          "metadata": {},
          "output_type": "execute_result"
        }
      ],
      "source": [
        "len(train_df), len(val_df), len(test_df)"
      ]
    },
    {
      "cell_type": "code",
      "execution_count": null,
      "metadata": {},
      "outputs": [],
      "source": []
    }
  ],
  "metadata": {
    "colab": {
      "provenance": []
    },
    "kernelspec": {
      "display_name": "gpt",
      "language": "python",
      "name": "python3"
    },
    "language_info": {
      "codemirror_mode": {
        "name": "ipython",
        "version": 3
      },
      "file_extension": ".py",
      "mimetype": "text/x-python",
      "name": "python",
      "nbconvert_exporter": "python",
      "pygments_lexer": "ipython3",
      "version": "3.9.19"
    }
  },
  "nbformat": 4,
  "nbformat_minor": 0
}
